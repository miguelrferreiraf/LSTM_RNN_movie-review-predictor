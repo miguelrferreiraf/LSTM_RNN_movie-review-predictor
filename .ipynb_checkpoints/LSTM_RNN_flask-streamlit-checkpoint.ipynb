{
 "cells": [
  {
   "cell_type": "markdown",
   "id": "54d9071e-5bb8-4345-a961-8af696a8c766",
   "metadata": {},
   "source": [
    "## LSTM Neural Nets and Flask/Streamlit Deploy"
   ]
  },
  {
   "cell_type": "markdown",
   "id": "617d1a4b-31ca-4e51-ac8f-289de6e242c6",
   "metadata": {},
   "source": [
    "This small project deploy a LSTM/RNN Neural Net that can learn to read. Deployment occurs through Flask and Streamlit."
   ]
  },
  {
   "cell_type": "markdown",
   "id": "5ba70d9e-84a2-47c4-b1bf-b660ae5b3e96",
   "metadata": {},
   "source": [
    "### Importing libraries"
   ]
  },
  {
   "cell_type": "code",
   "execution_count": 3,
   "id": "da594dc5-6de1-47c8-b834-06cc6477fd57",
   "metadata": {},
   "outputs": [],
   "source": [
    "import numpy as np\n",
    "import pandas as pd\n",
    "from tensorflow.keras.models import Sequential\n",
    "from tensorflow.keras.layers import LSTM,Embedding\n",
    "from tensorflow.keras.layers import Dense\n",
    "from tensorflow.keras.preprocessing.text import Tokenizer\n",
    "from tensorflow.keras.preprocessing.sequence import pad_sequences\n",
    "from sklearn.model_selection import train_test_split\n",
    "from keras.utils.np_utils import to_categorical\n",
    "import re\n",
    "import pickle"
   ]
  },
  {
   "cell_type": "markdown",
   "id": "0f12ef17-792b-48e0-a4ad-c839479aa34f",
   "metadata": {},
   "source": [
    "### Importing and working on dataset "
   ]
  },
  {
   "cell_type": "code",
   "execution_count": 5,
   "id": "e13e6b60-6888-4184-a5fe-9bef02bd6bc6",
   "metadata": {},
   "outputs": [
    {
     "data": {
      "text/plain": [
       "(25000, 2)"
      ]
     },
     "execution_count": 5,
     "metadata": {},
     "output_type": "execute_result"
    }
   ],
   "source": [
    "df = pd.read_csv('reviews_dataset.tsv.zip',header=0, delimiter=\"\\t\", quoting=3)\n",
    "df = df[['review','sentiment']]\n",
    "\n",
    "df.shape"
   ]
  },
  {
   "cell_type": "code",
   "execution_count": 6,
   "id": "b172055c-efc0-480b-b89f-41cef6658a56",
   "metadata": {},
   "outputs": [
    {
     "data": {
      "text/plain": [
       "1    12500\n",
       "0    12500\n",
       "Name: sentiment, dtype: int64"
      ]
     },
     "execution_count": 6,
     "metadata": {},
     "output_type": "execute_result"
    }
   ],
   "source": [
    "df.sentiment.value_counts()"
   ]
  },
  {
   "cell_type": "markdown",
   "id": "86a01ac4-f4eb-4799-93cd-657955136606",
   "metadata": {},
   "source": [
    "Adding some cleaning methods for text so it make easier for the algorithm to comprehend it."
   ]
  },
  {
   "cell_type": "code",
   "execution_count": 7,
   "id": "9b2f0cae-f882-4728-9616-3d2b66755f79",
   "metadata": {},
   "outputs": [],
   "source": [
    "df['review'] = df['review'].apply(lambda x: x.lower())\n",
    "df['review'] = df['review'].apply(lambda x: re.sub('[^a-zA-z0-9\\s]','',x))"
   ]
  },
  {
   "cell_type": "code",
   "execution_count": 11,
   "id": "2c75967b-5227-4874-8295-b5a0ac1098c3",
   "metadata": {},
   "outputs": [
    {
     "data": {
      "text/plain": [
       "(25000, 1473)"
      ]
     },
     "execution_count": 11,
     "metadata": {},
     "output_type": "execute_result"
    }
   ],
   "source": [
    "max_features = 1000\n",
    "tokenizer = Tokenizer(num_words=max_features, split=' ')\n",
    "tokenizer.fit_on_texts(df['review'].values)\n",
    "X = tokenizer.texts_to_sequences(df['review'].values)\n",
    "X = pad_sequences(X)\n",
    "X.shape"
   ]
  },
  {
   "cell_type": "code",
   "execution_count": 12,
   "id": "7e59e89c-7473-4475-8f26-4281d5b65c2f",
   "metadata": {},
   "outputs": [],
   "source": [
    "embed_dim = 50\n",
    "model = Sequential()\n",
    "model.add(Embedding(max_features, embed_dim,input_length = X.shape[1]))\n",
    "model.add(LSTM(10))\n",
    "model.add(Dense(2,activation='softmax'))\n",
    "model.compile(loss = 'categorical_crossentropy', optimizer='adam',metrics = ['accuracy'])"
   ]
  },
  {
   "cell_type": "code",
   "execution_count": 13,
   "id": "93929de6-8029-47e1-b03a-365ede447f8d",
   "metadata": {},
   "outputs": [
    {
     "name": "stdout",
     "output_type": "stream",
     "text": [
      "Model: \"sequential_1\"\n",
      "_________________________________________________________________\n",
      " Layer (type)                Output Shape              Param #   \n",
      "=================================================================\n",
      " embedding (Embedding)       (None, 1473, 50)          50000     \n",
      "                                                                 \n",
      " lstm (LSTM)                 (None, 10)                2440      \n",
      "                                                                 \n",
      " dense (Dense)               (None, 2)                 22        \n",
      "                                                                 \n",
      "=================================================================\n",
      "Total params: 52,462\n",
      "Trainable params: 52,462\n",
      "Non-trainable params: 0\n",
      "_________________________________________________________________\n",
      "None\n"
     ]
    }
   ],
   "source": [
    "print(model.summary())"
   ]
  },
  {
   "cell_type": "code",
   "execution_count": 17,
   "id": "616d8c5d-5d10-41a5-9736-8cecc3938658",
   "metadata": {},
   "outputs": [
    {
     "name": "stdout",
     "output_type": "stream",
     "text": [
      "(18750, 1473) (18750, 2)\n",
      "(6250, 1473) (6250, 2)\n"
     ]
    }
   ],
   "source": [
    "y = pd.get_dummies(df['sentiment']).values\n",
    "X_train, X_test, y_train, y_test = train_test_split(X,y, test_size = 0.25,\n",
    "                                                    random_state = 99)\n",
    "print(X_train.shape,y_train.shape)\n",
    "print(X_test.shape,y_test.shape)"
   ]
  },
  {
   "cell_type": "markdown",
   "id": "f747441d-e5c5-4caf-a758-f9afb804ff8c",
   "metadata": {},
   "source": [
    "## Training the model"
   ]
  },
  {
   "cell_type": "code",
   "execution_count": 18,
   "id": "1d30e8ec-b824-491c-8e49-ece0d24412b8",
   "metadata": {},
   "outputs": [
    {
     "name": "stdout",
     "output_type": "stream",
     "text": [
      "Epoch 1/5\n",
      "586/586 [==============================] - 509s 863ms/step - loss: 0.4654 - accuracy: 0.7769\n",
      "Epoch 2/5\n",
      "586/586 [==============================] - 504s 859ms/step - loss: 0.3601 - accuracy: 0.8464\n",
      "Epoch 3/5\n",
      "586/586 [==============================] - 504s 861ms/step - loss: 0.3255 - accuracy: 0.8599\n",
      "Epoch 4/5\n",
      "586/586 [==============================] - 504s 860ms/step - loss: 0.3087 - accuracy: 0.8711\n",
      "Epoch 5/5\n",
      "586/586 [==============================] - 504s 859ms/step - loss: 0.2960 - accuracy: 0.8759\n"
     ]
    },
    {
     "data": {
      "text/plain": [
       "<keras.callbacks.History at 0x1b5bd7b2a90>"
      ]
     },
     "execution_count": 18,
     "metadata": {},
     "output_type": "execute_result"
    }
   ],
   "source": [
    "model.fit(X_train, y_train, epochs = 5, verbose = 1)"
   ]
  },
  {
   "cell_type": "markdown",
   "id": "98cd400a-a24c-400a-9596-0100d604c8bd",
   "metadata": {},
   "source": [
    "### Testing the model"
   ]
  },
  {
   "cell_type": "markdown",
   "id": "3507fb54-550d-45ca-a6ea-3afa13e0d056",
   "metadata": {},
   "source": [
    "Now we create a variable with a string of test to be availed by the model."
   ]
  },
  {
   "cell_type": "code",
   "execution_count": 25,
   "id": "b36bb18c-c5d0-42ae-a329-afa5b41f1fcd",
   "metadata": {},
   "outputs": [
    {
     "name": "stdout",
     "output_type": "stream",
     "text": [
      "(1, 1473)\n",
      "1/1 [==============================] - 0s 133ms/step\n",
      "Positive\n"
     ]
    }
   ],
   "source": [
    "test = ['Movie is very good']\n",
    "test = tokenizer.texts_to_sequences(test)\n",
    "test = pad_sequences(test, maxlen=X.shape[1],dtype='int32', value=0)\n",
    "print(test.shape)\n",
    "\n",
    "sentiment = model.predict(test)[0]\n",
    "if(np.argmax(sentiment) == 0):\n",
    "    print(\"Negative\")\n",
    "elif (np.argmax(sentiment) == 1):\n",
    "    print(\"Positive\")"
   ]
  },
  {
   "cell_type": "markdown",
   "id": "62d4ec50-672f-4b79-9965-a12cafdae232",
   "metadata": {},
   "source": [
    "### Saving the model"
   ]
  },
  {
   "cell_type": "code",
   "execution_count": 26,
   "id": "e33e51a0-480c-4b84-a82a-e1fd7d32a88f",
   "metadata": {},
   "outputs": [],
   "source": [
    "with open('tokenizer.pickle', 'wb') as tk:\n",
    "    pickle.dump(tokenizer, tk, protocol=pickle.HIGHEST_PROTOCOL)\n",
    "    \n",
    "model_json = model.to_json()\n",
    "with open(\"model.json\", \"w\") as js:\n",
    "    js.write(model_json)"
   ]
  },
  {
   "cell_type": "code",
   "execution_count": 27,
   "id": "2ebc5dea-4bce-4f2f-93c3-e6fac594c38a",
   "metadata": {},
   "outputs": [],
   "source": [
    "model.save_weights(\"model.h5\")"
   ]
  },
  {
   "cell_type": "markdown",
   "id": "12bee41c-f57b-48bb-86c8-4ee289907f30",
   "metadata": {},
   "source": [
    "# TUDO ACIMA FUNCIONOU PERFEITAMENTE BEM. POR FAVOR, NÃO ESTRAGUE TUDO!"
   ]
  }
 ],
 "metadata": {
  "kernelspec": {
   "display_name": "Python 3 (ipykernel)",
   "language": "python",
   "name": "python3"
  },
  "language_info": {
   "codemirror_mode": {
    "name": "ipython",
    "version": 3
   },
   "file_extension": ".py",
   "mimetype": "text/x-python",
   "name": "python",
   "nbconvert_exporter": "python",
   "pygments_lexer": "ipython3",
   "version": "3.9.7"
  }
 },
 "nbformat": 4,
 "nbformat_minor": 5
}
